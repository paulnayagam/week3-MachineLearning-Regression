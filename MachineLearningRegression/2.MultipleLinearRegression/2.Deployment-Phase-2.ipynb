{
 "cells": [
  {
   "cell_type": "code",
   "execution_count": 1,
   "id": "5fbd3447-d3a9-46dd-afc0-efd6d20a29af",
   "metadata": {},
   "outputs": [],
   "source": [
    "import pickle  # inbuild dependency used the load the model file"
   ]
  },
  {
   "cell_type": "code",
   "execution_count": 3,
   "id": "3202ccee-5590-4d7d-b6f9-0607e628854e",
   "metadata": {},
   "outputs": [
    {
     "name": "stderr",
     "output_type": "stream",
     "text": [
      "C:\\Anaconda\\Lib\\site-packages\\sklearn\\base.py:493: UserWarning: X does not have valid feature names, but LinearRegression was fitted with feature names\n",
      "  warnings.warn(\n"
     ]
    }
   ],
   "source": [
    "loaded_model=pickle.load(open(\"finalized_model_mul_linear.sav\",'rb')) # load the model\n",
    "result=loaded_model.predict([[1234,456,4565,1,0]]) # assign the result by passing index values that means input parameters"
   ]
  },
  {
   "cell_type": "code",
   "execution_count": 4,
   "id": "ed6a6375-9f7b-4b08-934c-36ce2c207134",
   "metadata": {},
   "outputs": [
    {
     "data": {
      "text/plain": [
       "array([[43998.14930536]])"
      ]
     },
     "execution_count": 4,
     "metadata": {},
     "output_type": "execute_result"
    }
   ],
   "source": [
    "result"
   ]
  },
  {
   "cell_type": "code",
   "execution_count": null,
   "id": "ca31fc29-d43e-4509-92bd-53509a5a4ba0",
   "metadata": {},
   "outputs": [],
   "source": []
  }
 ],
 "metadata": {
  "kernelspec": {
   "display_name": "Python 3 (ipykernel)",
   "language": "python",
   "name": "python3"
  },
  "language_info": {
   "codemirror_mode": {
    "name": "ipython",
    "version": 3
   },
   "file_extension": ".py",
   "mimetype": "text/x-python",
   "name": "python",
   "nbconvert_exporter": "python",
   "pygments_lexer": "ipython3",
   "version": "3.12.4"
  }
 },
 "nbformat": 4,
 "nbformat_minor": 5
}
